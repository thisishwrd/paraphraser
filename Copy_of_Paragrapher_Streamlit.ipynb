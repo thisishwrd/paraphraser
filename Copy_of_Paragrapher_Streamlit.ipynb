{
  "nbformat": 4,
  "nbformat_minor": 0,
  "metadata": {
    "colab": {
      "name": "Copy of Paragrapher_Streamlit.ipynb",
      "provenance": [],
      "collapsed_sections": [],
      "authorship_tag": "ABX9TyOeuKEEXchhvXsRHeJFSyKK"
    },
    "kernelspec": {
      "name": "python3",
      "display_name": "Python 3"
    },
    "language_info": {
      "name": "python"
    }
  },
  "cells": [
    {
      "cell_type": "markdown",
      "source": [
        "# Installs\n",
        "\n",
        "Always run when initialising the Notebook"
      ],
      "metadata": {
        "id": "U28NDgQMVRJ3"
      }
    },
    {
      "cell_type": "code",
      "execution_count": null,
      "metadata": {
        "id": "hZBAgyy2S-kM"
      },
      "outputs": [],
      "source": [
        "! pip install streamlit -q\n",
        "! npm install -g localtunnel\n",
        "! pip install pyngrok\n",
        "! pip install git+https://github.com/PrithivirajDamodaran/Parrot_Paraphraser.git"
      ]
    },
    {
      "cell_type": "markdown",
      "source": [
        "# Imports"
      ],
      "metadata": {
        "id": "ho22bQq-VYjw"
      }
    },
    {
      "cell_type": "code",
      "source": [
        "from pyngrok import ngrok\n",
        "from parrot import Parrot\n",
        "import torch\n",
        "import warnings\n",
        "warnings.filterwarnings(\"ignore\")"
      ],
      "metadata": {
        "id": "xABmj2CgVbwA"
      },
      "execution_count": 2,
      "outputs": []
    },
    {
      "cell_type": "markdown",
      "source": [
        "# Seed"
      ],
      "metadata": {
        "id": "-FXRJFN7re7l"
      }
    },
    {
      "cell_type": "code",
      "source": [
        "# For reproducibility\n",
        "def random_state(seed):\n",
        "  torch.manual_seed(seed)\n",
        "  if torch.cuda.is_available():\n",
        "    torch.cuda.manual_seed_all(seed)\n",
        "\n",
        "random_state(1234)"
      ],
      "metadata": {
        "id": "IyNtUag1reO2"
      },
      "execution_count": 3,
      "outputs": []
    },
    {
      "cell_type": "markdown",
      "source": [
        "# Create app"
      ],
      "metadata": {
        "id": "bBFp8y0wyirS"
      }
    },
    {
      "cell_type": "code",
      "source": [
        "%%writefile app.py\n",
        "import streamlit as st\n",
        "from parrot import Parrot\n",
        "import warnings\n",
        "warnings.filterwarnings(\"ignore\")\n",
        "######################################\n",
        "\n",
        "######################################\n",
        "# Title\n",
        "# PAGE_CONFIG = {\"page_title\":\"CDI_rephraser\",\"page_icon\":\":smiley:\",\"layout\":\"centered\"}\n",
        "# st.set_page_config(**PAGE_CONFIG)\n",
        "\n",
        "def main():\n",
        "  \n",
        "    st.title(\"Automatic generator of paraphrases\")\n",
        "    st.subheader(\"This web app takes a sentence and an integer N as input and paraphrases the input sentence N times.\")\n",
        "\n",
        "    sentence = \"\"\n",
        "    # numbInput = 0\n",
        "    button_result = False\n",
        "\n",
        "    \n",
        "    st.text(\"Please add the sentence you want to have paraphrased below:\")\n",
        "    sentence = st.text_input('Input sentence', \"\")\n",
        "    # numbInput = st.slider(\"Enter the number of new sentences you'd like:\", min_value=1, max_value=20, value=1, step=1)\n",
        "    # numbInput = int(numbInput)\n",
        "\n",
        "    st.text(\"Click the button to see the result\")\n",
        "    \n",
        "    if st.button('Click for results'):\n",
        "      st.text(\"Here we go...\")\n",
        "\n",
        "      parrot = Parrot(model_tag=\"prithivida/parrot_paraphraser_on_T5\", use_gpu=True)\n",
        "\n",
        "      para_phrases = parrot.augment(input_phrase=sentence,\n",
        "                                      max_return_phrases = 20)\n",
        "\n",
        "      st.text(\"-\"*100)\n",
        "      st.text(\"Paraphrased sentences for '%s'\" %(sentence))\n",
        "      st.text(\"-\"*100)\n",
        "      \n",
        "      for para_phrase in para_phrases:\n",
        "        st.text(para_phrase[0])\n",
        " \n",
        "if __name__ == '__main__':\n",
        "    main()"
      ],
      "metadata": {
        "colab": {
          "base_uri": "https://localhost:8080/"
        },
        "id": "cuRdSL0cTLzb",
        "outputId": "e7dd8550-eca6-414e-c174-cd469728cebf"
      },
      "execution_count": 19,
      "outputs": [
        {
          "output_type": "stream",
          "name": "stdout",
          "text": [
            "Overwriting app.py\n"
          ]
        }
      ]
    },
    {
      "cell_type": "markdown",
      "source": [
        "# Run the app"
      ],
      "metadata": {
        "id": "Eh9xtiFrdhGl"
      }
    },
    {
      "cell_type": "code",
      "source": [
        "# substitute private ngrok token for TOKEN below and uncomment\n",
        "!ngrok authtoken 232fN5BEH6Z0Bgkh5oQODhJeVFn_4Y8FZuHzMM3TiS3CMLVyC"
      ],
      "metadata": {
        "colab": {
          "base_uri": "https://localhost:8080/"
        },
        "id": "7Fby3CfidyOC",
        "outputId": "19d07149-0410-49ac-9983-6ab30f1c6a4b"
      },
      "execution_count": 5,
      "outputs": [
        {
          "output_type": "stream",
          "name": "stdout",
          "text": [
            "Authtoken saved to configuration file: /root/.ngrok2/ngrok.yml\n"
          ]
        }
      ]
    },
    {
      "cell_type": "code",
      "source": [
        "!streamlit run --server.port 80 app.py &>/dev/null&\n",
        "!pgrep streamlit\n",
        "\n",
        "public_url = ngrok.connect(port='80')\n",
        "public_url"
      ],
      "metadata": {
        "colab": {
          "base_uri": "https://localhost:8080/"
        },
        "id": "h9_xgtAUqbkt",
        "outputId": "42608dcd-1e3f-47f1-d86a-1bd26a770760"
      },
      "execution_count": 6,
      "outputs": [
        {
          "output_type": "stream",
          "name": "stdout",
          "text": [
            "261\n"
          ]
        },
        {
          "output_type": "execute_result",
          "data": {
            "text/plain": [
              "<NgrokTunnel: \"http://7f82-35-194-12-1.ngrok.io\" -> \"http://localhost:80\">"
            ]
          },
          "metadata": {},
          "execution_count": 6
        }
      ]
    },
    {
      "cell_type": "code",
      "source": [
        "# ! python -m http.server 80\n",
        "# ! ngrok  http 80"
      ],
      "metadata": {
        "id": "1-M2SmYdheFG"
      },
      "execution_count": 7,
      "outputs": []
    },
    {
      "cell_type": "code",
      "source": [
        ""
      ],
      "metadata": {
        "id": "9jIgppokeeEw"
      },
      "execution_count": 7,
      "outputs": []
    },
    {
      "cell_type": "code",
      "source": [
        "# !ngrok_kill()"
      ],
      "metadata": {
        "id": "VDTiBq6wKz9a"
      },
      "execution_count": 8,
      "outputs": []
    },
    {
      "cell_type": "code",
      "source": [
        ""
      ],
      "metadata": {
        "id": "GRoEx3b6Nm6G"
      },
      "execution_count": 8,
      "outputs": []
    }
  ]
}